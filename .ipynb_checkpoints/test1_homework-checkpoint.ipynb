{
 "cells": [
  {
   "cell_type": "code",
   "execution_count": 21,
   "metadata": {},
   "outputs": [
    {
     "name": "stdout",
     "output_type": "stream",
     "text": [
      "True\n",
      "-1\n"
     ]
    }
   ],
   "source": [
    "#c style, deal with the bound\n",
    "class Solution:\n",
    "    def convertion(self, x, y, bound):\n",
    "        if x*10 + y > bound:\n",
    "            return bound, True\n",
    "        return x*10 + y, False\n",
    "        \n",
    "    def myAtoi(self, str):\n",
    "        \"\"\"\n",
    "        :type str: str\n",
    "        :rtype: int\n",
    "        \"\"\"\n",
    "        s = str.strip()  #delete the whitespace\n",
    "        if len(s)==0:\n",
    "            return 0    #str is empty\n",
    "        num = 0\n",
    "        negative = False #default num is positive\n",
    "        if s[0] == '-':\n",
    "            negative = True\n",
    "            s = s[1:]\n",
    "        elif s[0] == '+':\n",
    "            s = s[1:]\n",
    "        print(negative)\n",
    "        bound = 2147483647 if not negative else 2147483648   #bound\n",
    "        for c in s:\n",
    "            if ord(c) <= ord('9') and ord(c) >= ord('0'):\n",
    "                num, clip = self.convertion(num, ord(c)-ord('0'), bound)\n",
    "                if clip:\n",
    "                    break\n",
    "            else:\n",
    "                break\n",
    "        return num if not negative else -num\n",
    "\n",
    "s = Solution()\n",
    "print(s.myAtoi('-1'))\n",
    "    "
   ]
  },
  {
   "cell_type": "code",
   "execution_count": 20,
   "metadata": {},
   "outputs": [
    {
     "name": "stdout",
     "output_type": "stream",
     "text": [
      "True\n",
      "-1\n"
     ]
    }
   ],
   "source": [
    "#python don't need worry about overflow\n",
    "class Solution:\n",
    "    def myAtoi(self, str):\n",
    "        \"\"\"\n",
    "        :type str: str\n",
    "        :rtype: int\n",
    "        \"\"\"\n",
    "        s = str.strip()  #delete the whitespace\n",
    "        if len(s)==0:\n",
    "            return 0    #str is empty\n",
    "        num = 0\n",
    "        negative = False #default num is positive\n",
    "        if s[0] == '-':\n",
    "            negative = True\n",
    "            s = s[1:]\n",
    "        elif s[0] == '+':\n",
    "            s = s[1:]\n",
    "        bound = 2147483647 if not negative else 2147483648   #bound\n",
    "        for c in s:\n",
    "            if ord(c) <= ord('9') and ord(c) >= ord('0'):\n",
    "                num = num*10 + ord(c) - ord('0')\n",
    "                if num > bound:\n",
    "                    num = bound\n",
    "                    break\n",
    "            else:\n",
    "                break\n",
    "        return num if not negative else -num\n",
    "\n",
    "#s = Solution()\n",
    "#print(s.myAtoi('-1'))\n",
    "    \n"
   ]
  }
 ],
 "metadata": {
  "kernelspec": {
   "display_name": "Python 3",
   "language": "python",
   "name": "python3"
  },
  "language_info": {
   "codemirror_mode": {
    "name": "ipython",
    "version": 3
   },
   "file_extension": ".py",
   "mimetype": "text/x-python",
   "name": "python",
   "nbconvert_exporter": "python",
   "pygments_lexer": "ipython3",
   "version": "3.6.4"
  }
 },
 "nbformat": 4,
 "nbformat_minor": 2
}
