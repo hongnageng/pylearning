{
 "cells": [
  {
   "cell_type": "code",
   "execution_count": 67,
   "metadata": {},
   "outputs": [
    {
     "name": "stdout",
     "output_type": "stream",
     "text": [
      "[0, 1, 4, 9, 16, 25, 36, 49, 64, 81]\n"
     ]
    }
   ],
   "source": [
    "a = []\n",
    "for i in range(10):\n",
    "    a.append(i*i)   # add i int the end of a\n",
    "print(a)"
   ]
  },
  {
   "cell_type": "code",
   "execution_count": 68,
   "metadata": {},
   "outputs": [
    {
     "name": "stdout",
     "output_type": "stream",
     "text": [
      "[0, 1, 4, 9, 16, 25, 36, 49, 64, 81, 1, 2, 3, 4]   [1, 2, 3, 4]\n",
      "[0, 1, 4, 9, 16, 25, 36, 49, 64, 81, 1, 2, 3, 4, 1, 2, 3, 4] [0, 1, 4, 9, 16, 25, 36, 49, 64, 81, 1, 2, 3, 4]\n"
     ]
    }
   ],
   "source": [
    "b = [1,2,3,4]\n",
    "a.extend(b) # add another list in the end of a\n",
    "print(a,' ', b)\n",
    "\n",
    "c = a + b # keep a with no change\n",
    "print(c,a)"
   ]
  },
  {
   "cell_type": "code",
   "execution_count": 69,
   "metadata": {},
   "outputs": [
    {
     "name": "stdout",
     "output_type": "stream",
     "text": [
      "[0, 1, 4, 9, 16, 25, 49, 64, 81, 1, 2, 3]   4\n"
     ]
    }
   ],
   "source": [
    "last = a.pop() # delete the last element in a \n",
    "a.remove(36)\n",
    "print(a,' ', last)"
   ]
  },
  {
   "cell_type": "code",
   "execution_count": 73,
   "metadata": {},
   "outputs": [
    {
     "name": "stdout",
     "output_type": "stream",
     "text": [
      "8\n",
      "[1, 9, 2, 6, 5, 2, 2, 6, 7]\n",
      "[1, 2, 2, 2, 5, 6, 6, 7, 9]\n",
      "[9, 7, 6, 6, 5, 2, 2, 2, 1]\n"
     ]
    },
    {
     "data": {
      "text/plain": [
       "3"
      ]
     },
     "execution_count": 73,
     "metadata": {},
     "output_type": "execute_result"
    }
   ],
   "source": [
    "#insert sort count index reverse\n",
    "a = [1, 9, 2, 6, 5, 2, 2, 6]\n",
    "?? a.insert  # ?? gives you the use of  function\n",
    "a.insert(10, 7)  \n",
    "print(a.index(7))\n",
    "print(a)\n",
    "a.sort()\n",
    "print(a)\n",
    "a.reverse()\n",
    "print(a)\n",
    "a.count(2)"
   ]
  },
  {
   "cell_type": "code",
   "execution_count": 74,
   "metadata": {},
   "outputs": [],
   "source": [
    "# tuple can't be changed, normally it is used as parameters\n",
    "b = (1, 2, 7, 4)"
   ]
  },
  {
   "cell_type": "code",
   "execution_count": 75,
   "metadata": {},
   "outputs": [
    {
     "name": "stdout",
     "output_type": "stream",
     "text": [
      "name xiaoming\n",
      "age 24\n",
      "sex man\n",
      "None\n",
      "26\n"
     ]
    }
   ],
   "source": [
    "s = {'name': 'xiaoming', 'age': 24}\n",
    "s['sex'] = 'man' # a new key can be added if it first appears in the left, but wrong if a new key first appears in the right\n",
    "for key in s:\n",
    "    print(key, s[key])\n",
    "print(s.get('job'))\n",
    "#print(s['job'])\n",
    "\n",
    "if 'age' in s:\n",
    "    s['age'] = s['age'] + 1\n",
    "else:\n",
    "    s['age'] = 0\n",
    "#equals\n",
    "s['age'] = s.get('age',0) + 1\n",
    "print(s['age'])"
   ]
  },
  {
   "cell_type": "code",
   "execution_count": 39,
   "metadata": {},
   "outputs": [
    {
     "data": {
      "text/plain": [
       "'hello'"
      ]
     },
     "execution_count": 39,
     "metadata": {},
     "output_type": "execute_result"
    }
   ],
   "source": [
    "# 切片 for  list , str\n",
    "s = 'hello everyone ,it is good'\n",
    "s[0:]\n",
    "s[2]\n",
    "s[2:7:2]\n",
    "s[:5]"
   ]
  },
  {
   "cell_type": "code",
   "execution_count": 49,
   "metadata": {},
   "outputs": [
    {
     "name": "stdout",
     "output_type": "stream",
     "text": [
      "2046822721032\n",
      "2046822721032\n",
      "[100, 2, 3, 4, 5]\n",
      "1423997504\n",
      "2046804209416\n",
      "[100, 9, 3, 4, 5]\n",
      "[9] []\n"
     ]
    }
   ],
   "source": [
    "# deep copy && week copy\n",
    "a = [1,2,3,4,5]\n",
    "b = a\n",
    "print(id(a))\n",
    "print(id(b))\n",
    "\n",
    "b[0] = 100\n",
    "print(a)\n",
    "\n",
    "b = 100\n",
    "print(id(b))\n",
    "\n",
    "b = a[3:]\n",
    "print(id(b))\n",
    "a[1:2] = [9]\n",
    "print(a)\n",
    "print(a[1:2],a[1:1])"
   ]
  },
  {
   "cell_type": "code",
   "execution_count": 51,
   "metadata": {},
   "outputs": [
    {
     "name": "stdout",
     "output_type": "stream",
     "text": [
      "10 [10] [11]\n"
     ]
    }
   ],
   "source": [
    "# local scope\n",
    "a = 10\n",
    "b = [10]\n",
    "c = [10]\n",
    "def test():\n",
    "    a = 11\n",
    "    b = [11]\n",
    "    c[0] =11\n",
    "test()\n",
    "print(a, b, c)"
   ]
  },
  {
   "cell_type": "code",
   "execution_count": 64,
   "metadata": {},
   "outputs": [],
   "source": [
    "def test(a, b, *tup, **dicts):\n",
    "    '''\n",
    "    >=2 args\n",
    "    '''\n",
    "    if not isinstance(a, list) or not isinstance(b, int): # force type\n",
    "        print(\"arg error\")\n",
    "        return\n",
    "    print(a,' ', b, ' ', tup, ' ', dicts)\n",
    "    return 1, 3, 4"
   ]
  },
  {
   "cell_type": "code",
   "execution_count": 65,
   "metadata": {},
   "outputs": [
    {
     "name": "stdout",
     "output_type": "stream",
     "text": [
      "[22]   4   ()   {}\n",
      "1 3 4\n",
      "[99]   3   ()   {}\n",
      "1 3 4\n"
     ]
    }
   ],
   "source": [
    "key1, key2, key3 = test([22], 4)\n",
    "print(key1, key2, key3)\n",
    "test(b=3, a=[99])\n",
    "print(key1, key2, key3)"
   ]
  },
  {
   "cell_type": "code",
   "execution_count": 57,
   "metadata": {},
   "outputs": [
    {
     "name": "stdout",
     "output_type": "stream",
     "text": [
      "[1]   123   ('srr', {1, 3, 5}, 190)   {}\n"
     ]
    },
    {
     "data": {
      "text/plain": [
       "(1, 3, 4)"
      ]
     },
     "execution_count": 57,
     "metadata": {},
     "output_type": "execute_result"
    }
   ],
   "source": [
    "test([1], 123, 'srr', {1, 3, 5}, 190)"
   ]
  },
  {
   "cell_type": "code",
   "execution_count": 58,
   "metadata": {},
   "outputs": [
    {
     "name": "stdout",
     "output_type": "stream",
     "text": [
      "103\n"
     ]
    }
   ],
   "source": [
    "# *arg is used to sum\n",
    "def test1(*arg):\n",
    "    sum = 0\n",
    "    for i in arg:\n",
    "        sum += i\n",
    "    return sum\n",
    "\n",
    "print(test1(1,2,100))"
   ]
  },
  {
   "cell_type": "code",
   "execution_count": 66,
   "metadata": {},
   "outputs": [
    {
     "data": {
      "text/plain": [
       "{'age': 10, 'name': 'xiaoming'}"
      ]
     },
     "execution_count": 66,
     "metadata": {},
     "output_type": "execute_result"
    }
   ],
   "source": [
    "# \n",
    "def get_people(**kwargs):\n",
    "    p = {}\n",
    "    for key in kwargs:\n",
    "        p[key] = kwargs[key]\n",
    "    return p\n",
    "get_people(name='xiaoming', age=10)"
   ]
  },
  {
   "cell_type": "code",
   "execution_count": 1,
   "metadata": {},
   "outputs": [
    {
     "name": "stdout",
     "output_type": "stream",
     "text": [
      "1 a\n",
      "2 b\n",
      "3 c\n",
      "4 d\n",
      "5 e\n",
      "6 f\n"
     ]
    }
   ],
   "source": [
    "s = '123456'\n",
    "s1 = 'abcdefg'\n",
    "for c1, c2 in zip(s, s1):\n",
    "    print(c1, c2)"
   ]
  },
  {
   "cell_type": "code",
   "execution_count": 2,
   "metadata": {},
   "outputs": [
    {
     "name": "stdout",
     "output_type": "stream",
     "text": [
      "0 a\n",
      "1 b\n",
      "2 c\n",
      "3 d\n",
      "4 e\n",
      "5 f\n",
      "6 g\n"
     ]
    }
   ],
   "source": [
    "for i,  c in enumerate(s1):\n",
    "    print(i, c)"
   ]
  },
  {
   "cell_type": "code",
   "execution_count": null,
   "metadata": {},
   "outputs": [],
   "source": []
  }
 ],
 "metadata": {
  "kernelspec": {
   "display_name": "Python 3",
   "language": "python",
   "name": "python3"
  },
  "language_info": {
   "codemirror_mode": {
    "name": "ipython",
    "version": 3
   },
   "file_extension": ".py",
   "mimetype": "text/x-python",
   "name": "python",
   "nbconvert_exporter": "python",
   "pygments_lexer": "ipython3",
   "version": "3.6.4"
  }
 },
 "nbformat": 4,
 "nbformat_minor": 2
}
