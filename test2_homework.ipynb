{
 "cells": [
  {
   "cell_type": "code",
   "execution_count": 25,
   "metadata": {},
   "outputs": [
    {
     "name": "stdout",
     "output_type": "stream",
     "text": [
      "sjdh\n"
     ]
    }
   ],
   "source": [
    "# c style\n",
    "def test(str):\n",
    "    s1 = str[0]\n",
    "    for i in range(len(str)):\n",
    "        for j in range(len(s1)):\n",
    "            if s1[j] == str[i]:\n",
    "                j = -1\n",
    "                break\n",
    "        if j+1 == len(s1):\n",
    "            s1 += str[i]\n",
    "    return s1\n",
    "s = test(\"sjjjjddhhhdhdhd\")\n",
    "print(s)"
   ]
  },
  {
   "cell_type": "code",
   "execution_count": 26,
   "metadata": {},
   "outputs": [
    {
     "name": "stdout",
     "output_type": "stream",
     "text": [
      "['d', 'h', 'j', 's']\n",
      "dhjs\n"
     ]
    }
   ],
   "source": [
    "#use another list to store the results\n",
    "def test1(str):\n",
    "    s = list(str)\n",
    "    s.sort()\n",
    "    result = [s[0]]\n",
    "    for i in range(1, len(s)):\n",
    "        if s[i] != s[i-1]:\n",
    "            result.append(s[i])\n",
    "    return result\n",
    "\n",
    "s = test1('sjjjjddhhhdhdhd')\n",
    "print(s)\n",
    "r = ''\n",
    "for i in range(len(s)):\n",
    "    r += s[i]\n",
    "print(r)"
   ]
  },
  {
   "cell_type": "code",
   "execution_count": 28,
   "metadata": {},
   "outputs": [
    {
     "name": "stdout",
     "output_type": "stream",
     "text": [
      "dhjs\n"
     ]
    }
   ],
   "source": [
    "# without extra \n",
    "def test2(str):\n",
    "    str = list(str)\n",
    "    str.sort()\n",
    "    index = 1\n",
    "    for i in range(1, len(str)):\n",
    "        if str[i] != str[i-1]:\n",
    "            str[index] = str[i]\n",
    "            index += 1\n",
    "    str = str[0:index]\n",
    "    s = ''\n",
    "    for i in range(len(str)):\n",
    "        s += str[i]\n",
    "    return s\n",
    "s = test2('sjjjjddhhhdhdhd')\n",
    "print(s)"
   ]
  }
 ],
 "metadata": {
  "kernelspec": {
   "display_name": "Python 3",
   "language": "python",
   "name": "python3"
  },
  "language_info": {
   "codemirror_mode": {
    "name": "ipython",
    "version": 3
   },
   "file_extension": ".py",
   "mimetype": "text/x-python",
   "name": "python",
   "nbconvert_exporter": "python",
   "pygments_lexer": "ipython3",
   "version": "3.6.4"
  }
 },
 "nbformat": 4,
 "nbformat_minor": 2
}
